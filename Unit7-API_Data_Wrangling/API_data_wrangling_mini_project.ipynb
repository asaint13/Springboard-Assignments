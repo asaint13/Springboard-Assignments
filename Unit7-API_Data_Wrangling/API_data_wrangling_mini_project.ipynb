{
 "cells": [
  {
   "cell_type": "markdown",
   "metadata": {},
   "source": [
    "This exercise will require you to pull some data from the Qunadl API. Qaundl is currently the most widely used aggregator of financial market data."
   ]
  },
  {
   "cell_type": "markdown",
   "metadata": {},
   "source": [
    "As a first step, you will need to register a free account on the http://www.quandl.com website."
   ]
  },
  {
   "cell_type": "markdown",
   "metadata": {},
   "source": [
    "After you register, you will be provided with a unique API key, that you should store:"
   ]
  },
  {
   "cell_type": "code",
   "execution_count": 119,
   "metadata": {},
   "outputs": [],
   "source": [
    "# Store the API key as a string - according to PEP8, constants are always named in all upper case\n",
    "API_KEY = ''"
   ]
  },
  {
   "cell_type": "markdown",
   "metadata": {},
   "source": [
    "Qaundl has a large number of data sources, but, unfortunately, most of them require a Premium subscription. Still, there are also a good number of free datasets."
   ]
  },
  {
   "cell_type": "markdown",
   "metadata": {},
   "source": [
    "For this mini project, we will focus on equities data from the Frankfurt Stock Exhange (FSE), which is available for free. We'll try and analyze the stock prices of a company called Carl Zeiss Meditec, which manufactures tools for eye examinations, as well as medical lasers for laser eye surgery: https://www.zeiss.com/meditec/int/home.html. The company is listed under the stock ticker AFX_X."
   ]
  },
  {
   "cell_type": "markdown",
   "metadata": {},
   "source": [
    "You can find the detailed Quandl API instructions here: https://docs.quandl.com/docs/time-series"
   ]
  },
  {
   "cell_type": "markdown",
   "metadata": {},
   "source": [
    "While there is a dedicated Python package for connecting to the Quandl API, we would prefer that you use the *requests* package, which can be easily downloaded using *pip* or *conda*. You can find the documentation for the package here: http://docs.python-requests.org/en/master/ "
   ]
  },
  {
   "cell_type": "markdown",
   "metadata": {},
   "source": [
    "Finally, apart from the *requests* package, you are encouraged to not use any third party Python packages, such as *pandas*, and instead focus on what's available in the Python Standard Library (the *collections* module might come in handy: https://pymotw.com/3/collections/ ).\n",
    "Also, since you won't have access to DataFrames, you are encouraged to us Python's native data structures - preferably dictionaries, though some questions can also be answered using lists.\n",
    "You can read more on these data structures here: https://docs.python.org/3/tutorial/datastructures.html"
   ]
  },
  {
   "cell_type": "markdown",
   "metadata": {},
   "source": [
    "Keep in mind that the JSON responses you will be getting from the API map almost one-to-one to Python's dictionaries. Unfortunately, they can be very nested, so make sure you read up on indexing dictionaries in the documentation provided above."
   ]
  },
  {
   "cell_type": "code",
   "execution_count": 120,
   "metadata": {},
   "outputs": [],
   "source": [
    "# First, import the relevant modules\n",
    "import requests\n",
    "import collections"
   ]
  },
  {
   "cell_type": "code",
   "execution_count": 121,
   "metadata": {},
   "outputs": [],
   "source": [
    "# Now, call the Quandl API and pull out a small sample of the data (only one day) to get a glimpse\n",
    "# into the JSON structure that will be returned\n",
    "\n",
    "url = 'https://www.quandl.com/api/v3/datasets/FSE/AFX_X.json'\n",
    "prms = {'api_key':API_KEY, 'start_date':'2020-04-20', 'end_date':'2020-04-22'}\n",
    "r = requests.get(url, params = prms)\n",
    "\n",
    "qnd = r.json()\n"
   ]
  },
  {
   "cell_type": "code",
   "execution_count": 122,
   "metadata": {},
   "outputs": [
    {
     "name": "stdout",
     "output_type": "stream",
     "text": [
      "['Date', 'Open', 'High', 'Low', 'Close', 'Change', 'Traded Volume', 'Turnover', 'Last Price of the Day', 'Daily Traded Units', 'Daily Turnover']\n",
      "['2020-04-21', 93.4, 93.95, 91.5, 91.5, None, 115152.0, 10603440.3, None, None, None]\n"
     ]
    }
   ],
   "source": [
    "# Inspect the JSON structure of the object you created, and take note of how nested it is,\n",
    "# as well as the overall structure\n",
    "\n",
    "#The API returns a dict with a single key 'dataset'. The value for that key is a dictionary holding all the information\n",
    "#for the stock. The 'column_names' key has the name of all the price indicators. The actual numbers are in the 'data' key.\n",
    "#The values for the 'data' key are stored in a list of lists. Each element of the inner lists corresponds to a column of the\n",
    "#'column_names' key. Each list represents the price movements of one day. It doesn't return anything for 'Change'\n",
    "#print(qnd.values())\n",
    "\n",
    "print(qnd['dataset']['column_names'])\n",
    "print(qnd['dataset']['data'][1])"
   ]
  },
  {
   "cell_type": "markdown",
   "metadata": {},
   "source": [
    "These are your tasks for this mini project:\n",
    "\n",
    "1. Collect data from the Franfurt Stock Exchange, for the ticker AFX_X, for the whole year 2017 (keep in mind that the date format is YYYY-MM-DD).\n",
    "2. Convert the returned JSON object into a Python dictionary.\n",
    "3. Calculate what the highest and lowest opening prices were for the stock in this period.\n",
    "4. What was the largest change in any one day (based on High and Low price)?\n",
    "5. What was the largest change between any two days (based on Closing Price)?\n",
    "6. What was the average daily trading volume during this year?\n",
    "7. (Optional) What was the median trading volume during this year. (Note: you may need to implement your own function for calculating the median.)"
   ]
  },
  {
   "cell_type": "code",
   "execution_count": 123,
   "metadata": {},
   "outputs": [],
   "source": [
    "#First we need to get a response from the quandl API. Our url is already defined above. We just need to adjust the \n",
    "#parameters in order to get the data for 2017\n",
    "prms = {'api_key':API_KEY, 'start_date':'2017-01-01', 'end_date':'2017-12-31'}\n",
    "\n",
    "#Using requests.get() in order to send the request and catch the response\n",
    "res = requests.get(url, params = prms)"
   ]
  },
  {
   "cell_type": "code",
   "execution_count": 124,
   "metadata": {},
   "outputs": [
    {
     "name": "stdout",
     "output_type": "stream",
     "text": [
      "dict_keys(['dataset'])\n",
      "255\n",
      "['Date', 'Open', 'High', 'Low', 'Close', 'Change', 'Traded Volume', 'Turnover', 'Last Price of the Day', 'Daily Traded Units', 'Daily Turnover']\n"
     ]
    }
   ],
   "source": [
    "#Now we'll use the .json() on the response object in order to get the response as a json object \n",
    "#which python will read as a dict\n",
    "quandl = res.json()\n",
    "\n",
    "print(quandl.keys())\n",
    "print(len(quandl['dataset']['data']))\n",
    "print(quandl['dataset']['column_names'])"
   ]
  },
  {
   "cell_type": "code",
   "execution_count": 125,
   "metadata": {},
   "outputs": [
    {
     "name": "stdout",
     "output_type": "stream",
     "text": [
      "The highest opening price was 53.11 on 2017-12-14\n",
      "The lowest opening price was 34.0 on 2017-01-24\n"
     ]
    }
   ],
   "source": [
    "#Now we're moving on to finding what the highest and the lowest opening prices were for 2017\n",
    "# The open price is the second element on every list representing the price movements for each day\n",
    "#I'll extract all the opening prices along with the dates and then figure out on which days AFX_X had its highest and \n",
    "#lowest opening price \n",
    "\n",
    "daily = quandl['dataset']['data']\n",
    "\n",
    "#It'll actually be more convinient to move every indicator to a dict where the keys are the names of the indicators and the\n",
    "#values are the daily numbers throughout 2017\n",
    "daily_dict= collections.defaultdict(list)\n",
    "\n",
    "for day in daily:\n",
    "    if day[1] != None:\n",
    "        daily_dict['date'].append(day[0])\n",
    "        daily_dict['open'].append(day[1])\n",
    "        daily_dict['high'].append(day[2])\n",
    "        daily_dict['low'].append(day[3])\n",
    "        daily_dict['close'].append(day[4])\n",
    "        daily_dict['volume'].append(day[6])\n",
    "\n",
    "#Using max() and min() in order to get the highest and lowst open and then match them to their corresponding dates\n",
    "max_open = max(daily_dict['open'])\n",
    "max_date = daily_dict['date'][daily_dict['open'].index(max_open)]\n",
    "\n",
    "min_open = min(daily_dict['open'])\n",
    "min_date = daily_dict['date'][daily_dict['open'].index(min_open)]\n",
    "\n",
    "print('The highest opening price was {} on {}'.format(max_open, max_date))\n",
    "print('The lowest opening price was {} on {}'.format(min_open, min_date))"
   ]
  },
  {
   "cell_type": "code",
   "execution_count": 126,
   "metadata": {},
   "outputs": [
    {
     "name": "stdout",
     "output_type": "stream",
     "text": [
      "The largest change in one day was 2.81 on 2017-05-11\n"
     ]
    }
   ],
   "source": [
    "#The next step is figuring out what was the biggest intraday movement by finding the biggest difference \n",
    "#between high and low\n",
    "#Using zip() on date, high and low in order to iterate through all of them together. Saving the difference between \n",
    "#high and low as a value associated to the corresponding date\n",
    "\n",
    "hi_low = collections.defaultdict(float)\n",
    "for date, high, low in zip(daily_dict['date'], daily_dict['high'], daily_dict['low']):\n",
    "    hi_low[date] = (high - low)\n",
    "\n",
    "max_diff = round(max(hi_low.values()),2)\n",
    "\n",
    "#Matching the date to the difference\n",
    "for date, diff in hi_low.items():\n",
    "    if diff == max_diff:\n",
    "        diff_date = date\n",
    "print('The largest change in one day was {} on {}'.format(max_diff, diff_date))"
   ]
  },
  {
   "cell_type": "code",
   "execution_count": 127,
   "metadata": {},
   "outputs": [
    {
     "name": "stdout",
     "output_type": "stream",
     "text": [
      "The largest change between any two days in 2017 was 2.56\n"
     ]
    }
   ],
   "source": [
    "#Largest price change between two days based on their closing values.\n",
    "#Running a loop of the closing values to see what was the biggest change between two days\n",
    "\n",
    "daily_diff = 0\n",
    "for i in range(0,len(daily_dict['close'])-1):\n",
    "    c = abs(daily_dict['close'][i]-daily_dict['close'][i+1])\n",
    "    if c > daily_diff:\n",
    "        daily_diff = round(c, 2)\n",
    "\n",
    "print('The largest change between any two days in 2017 was {}'.format(daily_diff))"
   ]
  },
  {
   "cell_type": "code",
   "execution_count": 128,
   "metadata": {},
   "outputs": [
    {
     "name": "stdout",
     "output_type": "stream",
     "text": [
      "The average trading volume during 2017 was 89140.98\n"
     ]
    }
   ],
   "source": [
    "#Getting the average trading volume without libraries\n",
    "\n",
    "total_vol = sum(daily_dict['volume'])\n",
    "n_days = len(daily_dict['volume'])\n",
    "\n",
    "avg_vol = round(total_vol/n_days,2 )\n",
    "\n",
    "print('The average trading volume during 2017 was {}'.format(avg_vol))"
   ]
  },
  {
   "cell_type": "code",
   "execution_count": 129,
   "metadata": {},
   "outputs": [
    {
     "name": "stdout",
     "output_type": "stream",
     "text": [
      "The median trading volume for 2017 was 74723.5\n"
     ]
    }
   ],
   "source": [
    "#Getting the median trading volume without libraries\n",
    "\n",
    "sort_vol = sorted(daily_dict['volume'])\n",
    "if n_days % 2 == 0: \n",
    "    median1 = sort_vol[n_days//2] \n",
    "    median2 = sort_vol[n_days//2 - 1] \n",
    "    median_vol = (median1 + median2)/2\n",
    "else: \n",
    "    median_vol = sort_vol[n_days//2] \n",
    "    \n",
    "print('The median trading volume for 2017 was {}'.format(median_vol))"
   ]
  },
  {
   "cell_type": "code",
   "execution_count": null,
   "metadata": {},
   "outputs": [],
   "source": []
  }
 ],
 "metadata": {
  "kernelspec": {
   "display_name": "Python 3",
   "language": "python",
   "name": "python3"
  },
  "language_info": {
   "codemirror_mode": {
    "name": "ipython",
    "version": 3
   },
   "file_extension": ".py",
   "mimetype": "text/x-python",
   "name": "python",
   "nbconvert_exporter": "python",
   "pygments_lexer": "ipython3",
   "version": "3.7.4"
  }
 },
 "nbformat": 4,
 "nbformat_minor": 2
}
