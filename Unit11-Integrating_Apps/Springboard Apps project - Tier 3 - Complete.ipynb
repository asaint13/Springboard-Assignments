{
 "cells": [
  {
   "cell_type": "markdown",
   "metadata": {
    "colab_type": "text",
    "id": "i2RUFW7TFcuh"
   },
   "source": [
    "# Springboard Apps project - Tier 3 - Complete\n",
    "\n",
    "Welcome to the Apps project! To give you a taste of your future career, we're going to walk through exactly the kind of notebook that you'd write as a data scientist. In the process, we'll be sure to signpost the general framework for our investigation - the Data Science Pipeline - as well as give reasons for why we're doing what we're doing. We're also going to apply some of the skills and knowledge you've built up in the previous unit when reading Professor Spiegelhalter's *The Art of Statistics* (hereinafter *AoS*). \n",
    "\n",
    "So let's get cracking!\n",
    "\n",
    "**Brief**\n",
    "\n",
    "Did Apple Store apps receive better reviews than Google Play apps?\n",
    "\n",
    "## Stages of the project\n",
    "\n",
    "1. Sourcing and loading \n",
    "    * Load the two datasets\n",
    "    * Pick the columns that we are going to work with \n",
    "    * Subsetting the data on this basis \n",
    " \n",
    " \n",
    "2. Cleaning, transforming and visualizing\n",
    "    * Check the data types and fix them\n",
    "    * Add a `platform` column to both the `Apple` and the `Google` dataframes\n",
    "    * Changing the column names to prepare for a join \n",
    "    * Join the two data sets\n",
    "    * Eliminate the `NaN` values\n",
    "    * Filter only those apps that have been reviewed at least once\n",
    "    * Summarize the data visually and analytically (by the column `platform`)  \n",
    "  \n",
    "  \n",
    "3. Modelling \n",
    "    * Hypothesis formulation\n",
    "    * Getting the distribution of the data\n",
    "    * Permutation test \n",
    "\n",
    "\n",
    "4. Evaluating and concluding \n",
    "    * What is our conclusion?\n",
    "    * What is our decision?\n",
    "    * Other models we could have used. \n",
    "    "
   ]
  },
  {
   "cell_type": "markdown",
   "metadata": {
    "colab_type": "text",
    "id": "QLUAXtl1Fcuk"
   },
   "source": [
    "## Importing the libraries\n",
    "\n",
    "In this case we are going to import pandas, numpy, scipy, random and matplotlib.pyplot"
   ]
  },
  {
   "cell_type": "code",
   "execution_count": 1,
   "metadata": {
    "colab": {},
    "colab_type": "code",
    "id": "XeXJOlGiFcum"
   },
   "outputs": [],
   "source": [
    "import pandas as pd\n",
    "import numpy as np\n",
    "import matplotlib.pyplot as plt\n",
    "import seaborn as sns\n",
    "# scipi is a library for statistical tests and visualizations \n",
    "from scipy import stats\n",
    "# random enables us to generate random numbers\n",
    "import random"
   ]
  },
  {
   "cell_type": "markdown",
   "metadata": {
    "colab_type": "text",
    "id": "zVD7NlPAFcup"
   },
   "source": [
    "## Stage 1 -  Sourcing and loading data"
   ]
  },
  {
   "cell_type": "markdown",
   "metadata": {
    "colab_type": "text",
    "id": "KU8bdbImFcuq"
   },
   "source": [
    "### 1a. Source and load the data\n",
    "Let's download the data from Kaggle. Kaggle is a fantastic resource: a kind of social medium for data scientists, it boasts projects, datasets and news on the freshest libraries and technologies all in one place. The data from the Apple Store can be found [here](https://www.kaggle.com/ramamet4/app-store-apple-data-set-10k-apps) and the data from Google Store can be found [here](https://www.kaggle.com/lava18/google-play-store-apps).\n",
    "Download the datasets and save them in your working directory."
   ]
  },
  {
   "cell_type": "code",
   "execution_count": 2,
   "metadata": {
    "colab": {},
    "colab_type": "code",
    "id": "laM1PB76Fcur"
   },
   "outputs": [
    {
     "data": {
      "text/html": [
       "<div>\n",
       "<style scoped>\n",
       "    .dataframe tbody tr th:only-of-type {\n",
       "        vertical-align: middle;\n",
       "    }\n",
       "\n",
       "    .dataframe tbody tr th {\n",
       "        vertical-align: top;\n",
       "    }\n",
       "\n",
       "    .dataframe thead th {\n",
       "        text-align: right;\n",
       "    }\n",
       "</style>\n",
       "<table border=\"1\" class=\"dataframe\">\n",
       "  <thead>\n",
       "    <tr style=\"text-align: right;\">\n",
       "      <th></th>\n",
       "      <th>App</th>\n",
       "      <th>Category</th>\n",
       "      <th>Rating</th>\n",
       "      <th>Reviews</th>\n",
       "      <th>Size</th>\n",
       "      <th>Installs</th>\n",
       "      <th>Type</th>\n",
       "      <th>Price</th>\n",
       "      <th>Content Rating</th>\n",
       "      <th>Genres</th>\n",
       "      <th>Last Updated</th>\n",
       "      <th>Current Ver</th>\n",
       "      <th>Android Ver</th>\n",
       "    </tr>\n",
       "  </thead>\n",
       "  <tbody>\n",
       "    <tr>\n",
       "      <th>0</th>\n",
       "      <td>Photo Editor &amp; Candy Camera &amp; Grid &amp; ScrapBook</td>\n",
       "      <td>ART_AND_DESIGN</td>\n",
       "      <td>4.1</td>\n",
       "      <td>159</td>\n",
       "      <td>19M</td>\n",
       "      <td>10,000+</td>\n",
       "      <td>Free</td>\n",
       "      <td>0</td>\n",
       "      <td>Everyone</td>\n",
       "      <td>Art &amp; Design</td>\n",
       "      <td>January 7, 2018</td>\n",
       "      <td>1.0.0</td>\n",
       "      <td>4.0.3 and up</td>\n",
       "    </tr>\n",
       "    <tr>\n",
       "      <th>1</th>\n",
       "      <td>Coloring book moana</td>\n",
       "      <td>ART_AND_DESIGN</td>\n",
       "      <td>3.9</td>\n",
       "      <td>967</td>\n",
       "      <td>14M</td>\n",
       "      <td>500,000+</td>\n",
       "      <td>Free</td>\n",
       "      <td>0</td>\n",
       "      <td>Everyone</td>\n",
       "      <td>Art &amp; Design;Pretend Play</td>\n",
       "      <td>January 15, 2018</td>\n",
       "      <td>2.0.0</td>\n",
       "      <td>4.0.3 and up</td>\n",
       "    </tr>\n",
       "    <tr>\n",
       "      <th>2</th>\n",
       "      <td>U Launcher Lite – FREE Live Cool Themes, Hide ...</td>\n",
       "      <td>ART_AND_DESIGN</td>\n",
       "      <td>4.7</td>\n",
       "      <td>87510</td>\n",
       "      <td>8.7M</td>\n",
       "      <td>5,000,000+</td>\n",
       "      <td>Free</td>\n",
       "      <td>0</td>\n",
       "      <td>Everyone</td>\n",
       "      <td>Art &amp; Design</td>\n",
       "      <td>August 1, 2018</td>\n",
       "      <td>1.2.4</td>\n",
       "      <td>4.0.3 and up</td>\n",
       "    </tr>\n",
       "  </tbody>\n",
       "</table>\n",
       "</div>"
      ],
      "text/plain": [
       "                                                 App        Category  Rating  \\\n",
       "0     Photo Editor & Candy Camera & Grid & ScrapBook  ART_AND_DESIGN     4.1   \n",
       "1                                Coloring book moana  ART_AND_DESIGN     3.9   \n",
       "2  U Launcher Lite – FREE Live Cool Themes, Hide ...  ART_AND_DESIGN     4.7   \n",
       "\n",
       "  Reviews  Size    Installs  Type Price Content Rating  \\\n",
       "0     159   19M     10,000+  Free     0       Everyone   \n",
       "1     967   14M    500,000+  Free     0       Everyone   \n",
       "2   87510  8.7M  5,000,000+  Free     0       Everyone   \n",
       "\n",
       "                      Genres      Last Updated Current Ver   Android Ver  \n",
       "0               Art & Design   January 7, 2018       1.0.0  4.0.3 and up  \n",
       "1  Art & Design;Pretend Play  January 15, 2018       2.0.0  4.0.3 and up  \n",
       "2               Art & Design    August 1, 2018       1.2.4  4.0.3 and up  "
      ]
     },
     "execution_count": 2,
     "metadata": {},
     "output_type": "execute_result"
    }
   ],
   "source": [
    "# Now that the files are saved, we want to load them into Python using read_csv and pandas.\n",
    "\n",
    "# Create a variable called google, and store in it the path of the csv file that contains your google dataset. \n",
    "# If your dataset is in the same folder as this notebook, the path will simply be the name of the file. \n",
    "google = 'googleplaystore.csv'\n",
    "\n",
    "# Read the csv file into a data frame called Google using the read_csv() pandas method.\n",
    "Google = pd.read_csv(google)\n",
    "\n",
    "# Using the head() pandas method, observe the first three entries.\n",
    "Google.head(3)"
   ]
  },
  {
   "cell_type": "code",
   "execution_count": 3,
   "metadata": {},
   "outputs": [
    {
     "data": {
      "text/plain": [
       "Index(['App', 'Category', 'Rating', 'Reviews', 'Size', 'Installs', 'Type',\n",
       "       'Price', 'Content Rating', 'Genres', 'Last Updated', 'Current Ver',\n",
       "       'Android Ver'],\n",
       "      dtype='object')"
      ]
     },
     "execution_count": 3,
     "metadata": {},
     "output_type": "execute_result"
    }
   ],
   "source": [
    "Google.columns"
   ]
  },
  {
   "cell_type": "code",
   "execution_count": 4,
   "metadata": {},
   "outputs": [
    {
     "name": "stdout",
     "output_type": "stream",
     "text": [
      "<class 'pandas.core.frame.DataFrame'>\n",
      "RangeIndex: 10841 entries, 0 to 10840\n",
      "Data columns (total 13 columns):\n",
      " #   Column          Non-Null Count  Dtype  \n",
      "---  ------          --------------  -----  \n",
      " 0   App             10841 non-null  object \n",
      " 1   Category        10841 non-null  object \n",
      " 2   Rating          9367 non-null   float64\n",
      " 3   Reviews         10841 non-null  object \n",
      " 4   Size            10841 non-null  object \n",
      " 5   Installs        10841 non-null  object \n",
      " 6   Type            10840 non-null  object \n",
      " 7   Price           10841 non-null  object \n",
      " 8   Content Rating  10840 non-null  object \n",
      " 9   Genres          10841 non-null  object \n",
      " 10  Last Updated    10841 non-null  object \n",
      " 11  Current Ver     10833 non-null  object \n",
      " 12  Android Ver     10838 non-null  object \n",
      "dtypes: float64(1), object(12)\n",
      "memory usage: 1.1+ MB\n"
     ]
    }
   ],
   "source": [
    "Google.info()"
   ]
  },
  {
   "cell_type": "code",
   "execution_count": 5,
   "metadata": {
    "colab": {},
    "colab_type": "code",
    "id": "3AW8EA1wFcuu"
   },
   "outputs": [
    {
     "data": {
      "text/html": [
       "<div>\n",
       "<style scoped>\n",
       "    .dataframe tbody tr th:only-of-type {\n",
       "        vertical-align: middle;\n",
       "    }\n",
       "\n",
       "    .dataframe tbody tr th {\n",
       "        vertical-align: top;\n",
       "    }\n",
       "\n",
       "    .dataframe thead th {\n",
       "        text-align: right;\n",
       "    }\n",
       "</style>\n",
       "<table border=\"1\" class=\"dataframe\">\n",
       "  <thead>\n",
       "    <tr style=\"text-align: right;\">\n",
       "      <th></th>\n",
       "      <th>Unnamed: 0</th>\n",
       "      <th>id</th>\n",
       "      <th>track_name</th>\n",
       "      <th>size_bytes</th>\n",
       "      <th>currency</th>\n",
       "      <th>price</th>\n",
       "      <th>rating_count_tot</th>\n",
       "      <th>rating_count_ver</th>\n",
       "      <th>user_rating</th>\n",
       "      <th>user_rating_ver</th>\n",
       "      <th>ver</th>\n",
       "      <th>cont_rating</th>\n",
       "      <th>prime_genre</th>\n",
       "      <th>sup_devices.num</th>\n",
       "      <th>ipadSc_urls.num</th>\n",
       "      <th>lang.num</th>\n",
       "      <th>vpp_lic</th>\n",
       "    </tr>\n",
       "  </thead>\n",
       "  <tbody>\n",
       "    <tr>\n",
       "      <th>0</th>\n",
       "      <td>1</td>\n",
       "      <td>281656475</td>\n",
       "      <td>PAC-MAN Premium</td>\n",
       "      <td>100788224</td>\n",
       "      <td>USD</td>\n",
       "      <td>3.99</td>\n",
       "      <td>21292</td>\n",
       "      <td>26</td>\n",
       "      <td>4.0</td>\n",
       "      <td>4.5</td>\n",
       "      <td>6.3.5</td>\n",
       "      <td>4+</td>\n",
       "      <td>Games</td>\n",
       "      <td>38</td>\n",
       "      <td>5</td>\n",
       "      <td>10</td>\n",
       "      <td>1</td>\n",
       "    </tr>\n",
       "    <tr>\n",
       "      <th>1</th>\n",
       "      <td>2</td>\n",
       "      <td>281796108</td>\n",
       "      <td>Evernote - stay organized</td>\n",
       "      <td>158578688</td>\n",
       "      <td>USD</td>\n",
       "      <td>0.00</td>\n",
       "      <td>161065</td>\n",
       "      <td>26</td>\n",
       "      <td>4.0</td>\n",
       "      <td>3.5</td>\n",
       "      <td>8.2.2</td>\n",
       "      <td>4+</td>\n",
       "      <td>Productivity</td>\n",
       "      <td>37</td>\n",
       "      <td>5</td>\n",
       "      <td>23</td>\n",
       "      <td>1</td>\n",
       "    </tr>\n",
       "    <tr>\n",
       "      <th>2</th>\n",
       "      <td>3</td>\n",
       "      <td>281940292</td>\n",
       "      <td>WeatherBug - Local Weather, Radar, Maps, Alerts</td>\n",
       "      <td>100524032</td>\n",
       "      <td>USD</td>\n",
       "      <td>0.00</td>\n",
       "      <td>188583</td>\n",
       "      <td>2822</td>\n",
       "      <td>3.5</td>\n",
       "      <td>4.5</td>\n",
       "      <td>5.0.0</td>\n",
       "      <td>4+</td>\n",
       "      <td>Weather</td>\n",
       "      <td>37</td>\n",
       "      <td>5</td>\n",
       "      <td>3</td>\n",
       "      <td>1</td>\n",
       "    </tr>\n",
       "  </tbody>\n",
       "</table>\n",
       "</div>"
      ],
      "text/plain": [
       "   Unnamed: 0         id                                       track_name  \\\n",
       "0           1  281656475                                  PAC-MAN Premium   \n",
       "1           2  281796108                        Evernote - stay organized   \n",
       "2           3  281940292  WeatherBug - Local Weather, Radar, Maps, Alerts   \n",
       "\n",
       "   size_bytes currency  price  rating_count_tot  rating_count_ver  \\\n",
       "0   100788224      USD   3.99             21292                26   \n",
       "1   158578688      USD   0.00            161065                26   \n",
       "2   100524032      USD   0.00            188583              2822   \n",
       "\n",
       "   user_rating  user_rating_ver    ver cont_rating   prime_genre  \\\n",
       "0          4.0              4.5  6.3.5          4+         Games   \n",
       "1          4.0              3.5  8.2.2          4+  Productivity   \n",
       "2          3.5              4.5  5.0.0          4+       Weather   \n",
       "\n",
       "   sup_devices.num  ipadSc_urls.num  lang.num  vpp_lic  \n",
       "0               38                5        10        1  \n",
       "1               37                5        23        1  \n",
       "2               37                5         3        1  "
      ]
     },
     "execution_count": 5,
     "metadata": {},
     "output_type": "execute_result"
    }
   ],
   "source": [
    "# Create a variable called apple, and store in it the path of the csv file that contains your apple dataset. \n",
    "apple = 'AppleStore.csv'\n",
    "\n",
    "# Read the csv file into a pandas DataFrame object called Apple.\n",
    "Apple = pd.read_csv(apple)\n",
    "\n",
    "# Observe the first three entries like you did with your other data. \n",
    "Apple.head(3)"
   ]
  },
  {
   "cell_type": "code",
   "execution_count": 6,
   "metadata": {},
   "outputs": [
    {
     "data": {
      "text/plain": [
       "Index(['Unnamed: 0', 'id', 'track_name', 'size_bytes', 'currency', 'price',\n",
       "       'rating_count_tot', 'rating_count_ver', 'user_rating',\n",
       "       'user_rating_ver', 'ver', 'cont_rating', 'prime_genre',\n",
       "       'sup_devices.num', 'ipadSc_urls.num', 'lang.num', 'vpp_lic'],\n",
       "      dtype='object')"
      ]
     },
     "execution_count": 6,
     "metadata": {},
     "output_type": "execute_result"
    }
   ],
   "source": [
    "Apple.columns"
   ]
  },
  {
   "cell_type": "code",
   "execution_count": 7,
   "metadata": {},
   "outputs": [
    {
     "name": "stdout",
     "output_type": "stream",
     "text": [
      "<class 'pandas.core.frame.DataFrame'>\n",
      "RangeIndex: 7197 entries, 0 to 7196\n",
      "Data columns (total 17 columns):\n",
      " #   Column            Non-Null Count  Dtype  \n",
      "---  ------            --------------  -----  \n",
      " 0   Unnamed: 0        7197 non-null   int64  \n",
      " 1   id                7197 non-null   int64  \n",
      " 2   track_name        7197 non-null   object \n",
      " 3   size_bytes        7197 non-null   int64  \n",
      " 4   currency          7197 non-null   object \n",
      " 5   price             7197 non-null   float64\n",
      " 6   rating_count_tot  7197 non-null   int64  \n",
      " 7   rating_count_ver  7197 non-null   int64  \n",
      " 8   user_rating       7197 non-null   float64\n",
      " 9   user_rating_ver   7197 non-null   float64\n",
      " 10  ver               7197 non-null   object \n",
      " 11  cont_rating       7197 non-null   object \n",
      " 12  prime_genre       7197 non-null   object \n",
      " 13  sup_devices.num   7197 non-null   int64  \n",
      " 14  ipadSc_urls.num   7197 non-null   int64  \n",
      " 15  lang.num          7197 non-null   int64  \n",
      " 16  vpp_lic           7197 non-null   int64  \n",
      "dtypes: float64(3), int64(9), object(5)\n",
      "memory usage: 956.0+ KB\n"
     ]
    }
   ],
   "source": [
    "Apple.info()"
   ]
  },
  {
   "cell_type": "markdown",
   "metadata": {
    "colab_type": "text",
    "id": "vljOHKNTFcuw"
   },
   "source": [
    "### 1b. Pick the columns we'll work with\n",
    "\n",
    "From the documentation of these datasets, we can infer that the most appropriate columns to answer the brief are:\n",
    "\n",
    "1. Google:\n",
    "    * `Category` # Do we need this?\n",
    "    * `Rating`\n",
    "    * `Reviews`\n",
    "    * `Price` (maybe)\n",
    "2. Apple:    \n",
    "    * `prime_genre` # Do we need this?\n",
    "    * `user_rating` \n",
    "    * `rating_count_tot`\n",
    "    * `price` (maybe)"
   ]
  },
  {
   "cell_type": "markdown",
   "metadata": {
    "colab_type": "text",
    "id": "uf69AeTvFcux"
   },
   "source": [
    "### 1c. Subsetting accordingly\n",
    "\n",
    "Let's select only those columns that we want to work with from both datasets. We'll overwrite the subsets in the original variables."
   ]
  },
  {
   "cell_type": "code",
   "execution_count": 8,
   "metadata": {
    "colab": {},
    "colab_type": "code",
    "id": "LNSDXyjdFcuy"
   },
   "outputs": [
    {
     "data": {
      "text/html": [
       "<div>\n",
       "<style scoped>\n",
       "    .dataframe tbody tr th:only-of-type {\n",
       "        vertical-align: middle;\n",
       "    }\n",
       "\n",
       "    .dataframe tbody tr th {\n",
       "        vertical-align: top;\n",
       "    }\n",
       "\n",
       "    .dataframe thead th {\n",
       "        text-align: right;\n",
       "    }\n",
       "</style>\n",
       "<table border=\"1\" class=\"dataframe\">\n",
       "  <thead>\n",
       "    <tr style=\"text-align: right;\">\n",
       "      <th></th>\n",
       "      <th>Category</th>\n",
       "      <th>Rating</th>\n",
       "      <th>Reviews</th>\n",
       "      <th>Price</th>\n",
       "    </tr>\n",
       "  </thead>\n",
       "  <tbody>\n",
       "    <tr>\n",
       "      <th>0</th>\n",
       "      <td>ART_AND_DESIGN</td>\n",
       "      <td>4.1</td>\n",
       "      <td>159</td>\n",
       "      <td>0</td>\n",
       "    </tr>\n",
       "    <tr>\n",
       "      <th>1</th>\n",
       "      <td>ART_AND_DESIGN</td>\n",
       "      <td>3.9</td>\n",
       "      <td>967</td>\n",
       "      <td>0</td>\n",
       "    </tr>\n",
       "    <tr>\n",
       "      <th>2</th>\n",
       "      <td>ART_AND_DESIGN</td>\n",
       "      <td>4.7</td>\n",
       "      <td>87510</td>\n",
       "      <td>0</td>\n",
       "    </tr>\n",
       "  </tbody>\n",
       "</table>\n",
       "</div>"
      ],
      "text/plain": [
       "         Category  Rating Reviews Price\n",
       "0  ART_AND_DESIGN     4.1     159     0\n",
       "1  ART_AND_DESIGN     3.9     967     0\n",
       "2  ART_AND_DESIGN     4.7   87510     0"
      ]
     },
     "execution_count": 8,
     "metadata": {},
     "output_type": "execute_result"
    }
   ],
   "source": [
    "# Subset our DataFrame object Google by selecting just the variables ['Category', 'Rating', 'Reviews', 'Price']\n",
    "Google = Google[['Category', 'Rating', 'Reviews', 'Price']]\n",
    "\n",
    "# Check the first three entries\n",
    "Google.head(3)"
   ]
  },
  {
   "cell_type": "code",
   "execution_count": 9,
   "metadata": {
    "colab": {},
    "colab_type": "code",
    "id": "AVCtENPtFcu0"
   },
   "outputs": [
    {
     "data": {
      "text/html": [
       "<div>\n",
       "<style scoped>\n",
       "    .dataframe tbody tr th:only-of-type {\n",
       "        vertical-align: middle;\n",
       "    }\n",
       "\n",
       "    .dataframe tbody tr th {\n",
       "        vertical-align: top;\n",
       "    }\n",
       "\n",
       "    .dataframe thead th {\n",
       "        text-align: right;\n",
       "    }\n",
       "</style>\n",
       "<table border=\"1\" class=\"dataframe\">\n",
       "  <thead>\n",
       "    <tr style=\"text-align: right;\">\n",
       "      <th></th>\n",
       "      <th>prime_genre</th>\n",
       "      <th>user_rating</th>\n",
       "      <th>rating_count_tot</th>\n",
       "      <th>price</th>\n",
       "    </tr>\n",
       "  </thead>\n",
       "  <tbody>\n",
       "    <tr>\n",
       "      <th>0</th>\n",
       "      <td>Games</td>\n",
       "      <td>4.0</td>\n",
       "      <td>21292</td>\n",
       "      <td>3.99</td>\n",
       "    </tr>\n",
       "    <tr>\n",
       "      <th>1</th>\n",
       "      <td>Productivity</td>\n",
       "      <td>4.0</td>\n",
       "      <td>161065</td>\n",
       "      <td>0.00</td>\n",
       "    </tr>\n",
       "    <tr>\n",
       "      <th>2</th>\n",
       "      <td>Weather</td>\n",
       "      <td>3.5</td>\n",
       "      <td>188583</td>\n",
       "      <td>0.00</td>\n",
       "    </tr>\n",
       "  </tbody>\n",
       "</table>\n",
       "</div>"
      ],
      "text/plain": [
       "    prime_genre  user_rating  rating_count_tot  price\n",
       "0         Games          4.0             21292   3.99\n",
       "1  Productivity          4.0            161065   0.00\n",
       "2       Weather          3.5            188583   0.00"
      ]
     },
     "execution_count": 9,
     "metadata": {},
     "output_type": "execute_result"
    }
   ],
   "source": [
    "# Do the same with our Apple object, selecting just the variables ['prime_genre', 'user_rating', 'rating_count_tot', 'price']\n",
    "Apple = Apple[['prime_genre', 'user_rating', 'rating_count_tot', 'price']]\n",
    "\n",
    "# Let's check the first three entries\n",
    "Apple.head(3)"
   ]
  },
  {
   "cell_type": "markdown",
   "metadata": {
    "colab_type": "text",
    "id": "wwK2wH-rFcu2"
   },
   "source": [
    "## Stage 2 -  Cleaning, transforming and visualizing"
   ]
  },
  {
   "cell_type": "markdown",
   "metadata": {
    "colab_type": "text",
    "id": "NsoE5x0JFcu3"
   },
   "source": [
    "### 2a. Check the data types for both Apple and Google, and fix them\n",
    "\n",
    "Types are crucial for data science in Python. Let's determine whether the variables we selected in the previous section belong to the types they should do, or whether there are any errors here. "
   ]
  },
  {
   "cell_type": "code",
   "execution_count": 10,
   "metadata": {
    "colab": {},
    "colab_type": "code",
    "id": "ymw10SaWFcu4"
   },
   "outputs": [
    {
     "data": {
      "text/plain": [
       "prime_genre          object\n",
       "user_rating         float64\n",
       "rating_count_tot      int64\n",
       "price               float64\n",
       "dtype: object"
      ]
     },
     "execution_count": 10,
     "metadata": {},
     "output_type": "execute_result"
    }
   ],
   "source": [
    "# Using the dtypes feature of pandas DataFrame objects, check out the data types within our Apple dataframe.\n",
    "# Are they what you expect?\n",
    "Apple.dtypes"
   ]
  },
  {
   "cell_type": "markdown",
   "metadata": {
    "colab_type": "text",
    "id": "VAiM6jIxFcu6"
   },
   "source": [
    "This is looking healthy. But what about our Google data frame?"
   ]
  },
  {
   "cell_type": "code",
   "execution_count": 11,
   "metadata": {
    "colab": {},
    "colab_type": "code",
    "id": "kmP8MhqyFcu7"
   },
   "outputs": [
    {
     "data": {
      "text/plain": [
       "Category     object\n",
       "Rating      float64\n",
       "Reviews      object\n",
       "Price        object\n",
       "dtype: object"
      ]
     },
     "execution_count": 11,
     "metadata": {},
     "output_type": "execute_result"
    }
   ],
   "source": [
    "# Using the same dtypes feature, check out the data types of our Google dataframe. \n",
    "Google.dtypes"
   ]
  },
  {
   "cell_type": "markdown",
   "metadata": {
    "colab_type": "text",
    "id": "O-dxAy0WFcu9"
   },
   "source": [
    "Weird. The data type for the column 'Price' is 'object', not a numeric data type like a float or an integer. Let's investigate the unique values of this column. "
   ]
  },
  {
   "cell_type": "code",
   "execution_count": 12,
   "metadata": {
    "colab": {},
    "colab_type": "code",
    "id": "Hu08K9y7Fcu9"
   },
   "outputs": [
    {
     "data": {
      "text/plain": [
       "array(['0', '$4.99', '$3.99', '$6.99', '$1.49', '$2.99', '$7.99', '$5.99',\n",
       "       '$3.49', '$1.99', '$9.99', '$7.49', '$0.99', '$9.00', '$5.49',\n",
       "       '$10.00', '$24.99', '$11.99', '$79.99', '$16.99', '$14.99',\n",
       "       '$1.00', '$29.99', '$12.99', '$2.49', '$10.99', '$1.50', '$19.99',\n",
       "       '$15.99', '$33.99', '$74.99', '$39.99', '$3.95', '$4.49', '$1.70',\n",
       "       '$8.99', '$2.00', '$3.88', '$25.99', '$399.99', '$17.99',\n",
       "       '$400.00', '$3.02', '$1.76', '$4.84', '$4.77', '$1.61', '$2.50',\n",
       "       '$1.59', '$6.49', '$1.29', '$5.00', '$13.99', '$299.99', '$379.99',\n",
       "       '$37.99', '$18.99', '$389.99', '$19.90', '$8.49', '$1.75',\n",
       "       '$14.00', '$4.85', '$46.99', '$109.99', '$154.99', '$3.08',\n",
       "       '$2.59', '$4.80', '$1.96', '$19.40', '$3.90', '$4.59', '$15.46',\n",
       "       '$3.04', '$4.29', '$2.60', '$3.28', '$4.60', '$28.99', '$2.95',\n",
       "       '$2.90', '$1.97', '$200.00', '$89.99', '$2.56', '$30.99', '$3.61',\n",
       "       '$394.99', '$1.26', 'Everyone', '$1.20', '$1.04'], dtype=object)"
      ]
     },
     "execution_count": 12,
     "metadata": {},
     "output_type": "execute_result"
    }
   ],
   "source": [
    "# Use the unique() pandas method on the Price column to check its unique values. \n",
    "Google['Price'].unique()"
   ]
  },
  {
   "cell_type": "markdown",
   "metadata": {
    "colab_type": "text",
    "id": "w_7nkogFFcu_"
   },
   "source": [
    "Aha! Fascinating. There are actually two issues here. \n",
    "\n",
    "- Firstly, there's a price called `Everyone`. That is a massive mistake! \n",
    "- Secondly, there are dollar symbols everywhere! \n",
    "\n",
    "\n",
    "Let's address the first issue first. Let's check the datapoints that have the price value `Everyone`"
   ]
  },
  {
   "cell_type": "code",
   "execution_count": 13,
   "metadata": {
    "colab": {},
    "colab_type": "code",
    "id": "E75WWmhdFcvA"
   },
   "outputs": [
    {
     "data": {
      "text/html": [
       "<div>\n",
       "<style scoped>\n",
       "    .dataframe tbody tr th:only-of-type {\n",
       "        vertical-align: middle;\n",
       "    }\n",
       "\n",
       "    .dataframe tbody tr th {\n",
       "        vertical-align: top;\n",
       "    }\n",
       "\n",
       "    .dataframe thead th {\n",
       "        text-align: right;\n",
       "    }\n",
       "</style>\n",
       "<table border=\"1\" class=\"dataframe\">\n",
       "  <thead>\n",
       "    <tr style=\"text-align: right;\">\n",
       "      <th></th>\n",
       "      <th>Category</th>\n",
       "      <th>Rating</th>\n",
       "      <th>Reviews</th>\n",
       "      <th>Price</th>\n",
       "    </tr>\n",
       "  </thead>\n",
       "  <tbody>\n",
       "    <tr>\n",
       "      <th>10472</th>\n",
       "      <td>1.9</td>\n",
       "      <td>19.0</td>\n",
       "      <td>3.0M</td>\n",
       "      <td>Everyone</td>\n",
       "    </tr>\n",
       "  </tbody>\n",
       "</table>\n",
       "</div>"
      ],
      "text/plain": [
       "      Category  Rating Reviews     Price\n",
       "10472      1.9    19.0    3.0M  Everyone"
      ]
     },
     "execution_count": 13,
     "metadata": {},
     "output_type": "execute_result"
    }
   ],
   "source": [
    "# Let's check which data points have the value 'Everyone' for the 'Price' column by subsetting our Google dataframe.\n",
    "\n",
    "# Subset the Google dataframe on the price column. \n",
    "# To be sure: you want to pick out just those rows whose value for the 'Price' column is just 'Everyone'. \n",
    "Google[Google['Price']=='Everyone'] "
   ]
  },
  {
   "cell_type": "markdown",
   "metadata": {
    "colab_type": "text",
    "id": "ezfLshdRFcvC"
   },
   "source": [
    "Thankfully, it's just one row. We've gotta get rid of it. "
   ]
  },
  {
   "cell_type": "code",
   "execution_count": 14,
   "metadata": {
    "colab": {},
    "colab_type": "code",
    "id": "DBmjUQUkFcvD"
   },
   "outputs": [
    {
     "data": {
      "text/plain": [
       "array(['0', '$4.99', '$3.99', '$6.99', '$1.49', '$2.99', '$7.99', '$5.99',\n",
       "       '$3.49', '$1.99', '$9.99', '$7.49', '$0.99', '$9.00', '$5.49',\n",
       "       '$10.00', '$24.99', '$11.99', '$79.99', '$16.99', '$14.99',\n",
       "       '$1.00', '$29.99', '$12.99', '$2.49', '$10.99', '$1.50', '$19.99',\n",
       "       '$15.99', '$33.99', '$74.99', '$39.99', '$3.95', '$4.49', '$1.70',\n",
       "       '$8.99', '$2.00', '$3.88', '$25.99', '$399.99', '$17.99',\n",
       "       '$400.00', '$3.02', '$1.76', '$4.84', '$4.77', '$1.61', '$2.50',\n",
       "       '$1.59', '$6.49', '$1.29', '$5.00', '$13.99', '$299.99', '$379.99',\n",
       "       '$37.99', '$18.99', '$389.99', '$19.90', '$8.49', '$1.75',\n",
       "       '$14.00', '$4.85', '$46.99', '$109.99', '$154.99', '$3.08',\n",
       "       '$2.59', '$4.80', '$1.96', '$19.40', '$3.90', '$4.59', '$15.46',\n",
       "       '$3.04', '$4.29', '$2.60', '$3.28', '$4.60', '$28.99', '$2.95',\n",
       "       '$2.90', '$1.97', '$200.00', '$89.99', '$2.56', '$30.99', '$3.61',\n",
       "       '$394.99', '$1.26', '$1.20', '$1.04'], dtype=object)"
      ]
     },
     "execution_count": 14,
     "metadata": {},
     "output_type": "execute_result"
    }
   ],
   "source": [
    "# Let's eliminate that row. \n",
    "\n",
    "# Subset our Google dataframe to pick out just those rows whose value for the 'Price' column is NOT 'Everyone'. \n",
    "# Reassign that subset to the Google variable. \n",
    "# You can do this in two lines or one. Your choice! \n",
    "Google = Google[Google['Price'] != 'Everyone']\n",
    "\n",
    "# Check again the unique values of Google\n",
    "Google['Price'].unique()"
   ]
  },
  {
   "cell_type": "markdown",
   "metadata": {
    "colab_type": "text",
    "id": "T43TB4qFFcvF"
   },
   "source": [
    "Our second problem remains: I'm seeing dollar symbols when I close my eyes! (And not in a good way). \n",
    "\n",
    "This is a problem because Python actually considers these values strings. So we can't do mathematical and statistical operations on them until we've made them into numbers. "
   ]
  },
  {
   "cell_type": "code",
   "execution_count": 15,
   "metadata": {
    "colab": {},
    "colab_type": "code",
    "id": "W87gVS9BFcvG"
   },
   "outputs": [],
   "source": [
    "# Let's create a variable called nosymb.\n",
    "# This variable will take the Price column of Google and apply the str.replace() method. \n",
    "nosymb = Google['Price'].str.replace('$','')\n",
    "\n",
    "# Now we need to do two things:\n",
    "# i. Make the values in the nosymb variable numeric using the to_numeric() pandas method.\n",
    "# ii. Assign this new set of numeric, dollar-sign-less values to Google['Price']. \n",
    "# You can do this in one line if you wish.\n",
    "Google['Price'] = pd.to_numeric(nosymb)"
   ]
  },
  {
   "cell_type": "markdown",
   "metadata": {
    "colab_type": "text",
    "id": "LxpJQ9yyFcvI"
   },
   "source": [
    "Now let's check the data types for our Google dataframe again, to verify that the 'Price' column really is numeric now."
   ]
  },
  {
   "cell_type": "code",
   "execution_count": 16,
   "metadata": {
    "colab": {},
    "colab_type": "code",
    "id": "Fn5Gt-QbFcvI"
   },
   "outputs": [
    {
     "data": {
      "text/plain": [
       "Category     object\n",
       "Rating      float64\n",
       "Reviews      object\n",
       "Price       float64\n",
       "dtype: object"
      ]
     },
     "execution_count": 16,
     "metadata": {},
     "output_type": "execute_result"
    }
   ],
   "source": [
    "# Use the function dtypes. \n",
    "Google.dtypes"
   ]
  },
  {
   "cell_type": "markdown",
   "metadata": {
    "colab_type": "text",
    "id": "FgfuiVo0FcvK"
   },
   "source": [
    "Notice that the column `Reviews` is still an object column. We actually need this column to be a numeric column, too. "
   ]
  },
  {
   "cell_type": "code",
   "execution_count": 17,
   "metadata": {
    "colab": {},
    "colab_type": "code",
    "id": "MiVEWsWBFcvL"
   },
   "outputs": [],
   "source": [
    "# Convert the 'Reviews' column to a numeric data type. \n",
    "Google['Reviews'] = pd.to_numeric(Google['Reviews'])"
   ]
  },
  {
   "cell_type": "code",
   "execution_count": 18,
   "metadata": {
    "colab": {},
    "colab_type": "code",
    "id": "wWJdXXTTFcvN"
   },
   "outputs": [
    {
     "data": {
      "text/plain": [
       "Category     object\n",
       "Rating      float64\n",
       "Reviews       int64\n",
       "Price       float64\n",
       "dtype: object"
      ]
     },
     "execution_count": 18,
     "metadata": {},
     "output_type": "execute_result"
    }
   ],
   "source": [
    "# Let's check the data types of Google again\n",
    "Google.dtypes"
   ]
  },
  {
   "cell_type": "markdown",
   "metadata": {
    "colab_type": "text",
    "id": "OiLm2GEKFcvP"
   },
   "source": [
    "### 2b. Add a `platform` column to both the `Apple` and the `Google` dataframes\n",
    "Let's add a new column to both dataframe objects called `platform`: all of its values in the Google dataframe will be just 'google', and all of its values for the Apple dataframe will be just 'apple'. \n",
    "\n",
    "The reason we're making this column is so that we can ultimately join our Apple and Google data together, and actually test out some hypotheses to solve the problem in our brief. "
   ]
  },
  {
   "cell_type": "code",
   "execution_count": 19,
   "metadata": {
    "colab": {},
    "colab_type": "code",
    "id": "mF-sOcx2FcvQ"
   },
   "outputs": [],
   "source": [
    "# Create a column called 'platform' in both the Apple and Google dataframes. \n",
    "# Add the value 'apple' and the value 'google' as appropriate. \n",
    "Google['platform'] = 'google'\n",
    "Apple['platform'] = 'apple'"
   ]
  },
  {
   "cell_type": "markdown",
   "metadata": {
    "colab_type": "text",
    "id": "EJcry17IFcvS"
   },
   "source": [
    "### 2c. Changing the column names to prepare for our join of the two datasets \n",
    "Since the easiest way to join two datasets is if they have both:\n",
    "- the same number of columns\n",
    "- the same column names\n",
    "we need to rename the columns of `Apple` so that they're the same as the ones of `Google`, or vice versa.\n",
    "\n",
    "In this case, we're going to change the `Apple` columns names to the names of the `Google` columns. \n",
    "\n",
    "This is an important step to unify the two datasets!"
   ]
  },
  {
   "cell_type": "code",
   "execution_count": 20,
   "metadata": {
    "colab": {},
    "colab_type": "code",
    "id": "bdt9XH2KFcvT"
   },
   "outputs": [],
   "source": [
    "# Create a variable called old_names where you'll store the column names of the Apple dataframe. \n",
    "# Use the feature .columns.\n",
    "old_names = Apple.columns\n",
    "\n",
    "# Create a variable called new_names where you'll store the column names of the Google dataframe. \n",
    "new_names = Google.columns\n",
    "\n",
    "# Use the rename() DataFrame method to change the columns names. \n",
    "Apple.rename(columns = dict(zip(old_names, new_names)), inplace=True)"
   ]
  },
  {
   "cell_type": "code",
   "execution_count": 21,
   "metadata": {},
   "outputs": [
    {
     "data": {
      "text/html": [
       "<div>\n",
       "<style scoped>\n",
       "    .dataframe tbody tr th:only-of-type {\n",
       "        vertical-align: middle;\n",
       "    }\n",
       "\n",
       "    .dataframe tbody tr th {\n",
       "        vertical-align: top;\n",
       "    }\n",
       "\n",
       "    .dataframe thead th {\n",
       "        text-align: right;\n",
       "    }\n",
       "</style>\n",
       "<table border=\"1\" class=\"dataframe\">\n",
       "  <thead>\n",
       "    <tr style=\"text-align: right;\">\n",
       "      <th></th>\n",
       "      <th>Category</th>\n",
       "      <th>Rating</th>\n",
       "      <th>Reviews</th>\n",
       "      <th>Price</th>\n",
       "      <th>platform</th>\n",
       "    </tr>\n",
       "  </thead>\n",
       "  <tbody>\n",
       "    <tr>\n",
       "      <th>0</th>\n",
       "      <td>Games</td>\n",
       "      <td>4.0</td>\n",
       "      <td>21292</td>\n",
       "      <td>3.99</td>\n",
       "      <td>apple</td>\n",
       "    </tr>\n",
       "    <tr>\n",
       "      <th>1</th>\n",
       "      <td>Productivity</td>\n",
       "      <td>4.0</td>\n",
       "      <td>161065</td>\n",
       "      <td>0.00</td>\n",
       "      <td>apple</td>\n",
       "    </tr>\n",
       "    <tr>\n",
       "      <th>2</th>\n",
       "      <td>Weather</td>\n",
       "      <td>3.5</td>\n",
       "      <td>188583</td>\n",
       "      <td>0.00</td>\n",
       "      <td>apple</td>\n",
       "    </tr>\n",
       "    <tr>\n",
       "      <th>3</th>\n",
       "      <td>Shopping</td>\n",
       "      <td>4.0</td>\n",
       "      <td>262241</td>\n",
       "      <td>0.00</td>\n",
       "      <td>apple</td>\n",
       "    </tr>\n",
       "    <tr>\n",
       "      <th>4</th>\n",
       "      <td>Reference</td>\n",
       "      <td>4.5</td>\n",
       "      <td>985920</td>\n",
       "      <td>0.00</td>\n",
       "      <td>apple</td>\n",
       "    </tr>\n",
       "  </tbody>\n",
       "</table>\n",
       "</div>"
      ],
      "text/plain": [
       "       Category  Rating  Reviews  Price platform\n",
       "0         Games     4.0    21292   3.99    apple\n",
       "1  Productivity     4.0   161065   0.00    apple\n",
       "2       Weather     3.5   188583   0.00    apple\n",
       "3      Shopping     4.0   262241   0.00    apple\n",
       "4     Reference     4.5   985920   0.00    apple"
      ]
     },
     "execution_count": 21,
     "metadata": {},
     "output_type": "execute_result"
    }
   ],
   "source": [
    "Apple.head()"
   ]
  },
  {
   "cell_type": "code",
   "execution_count": 22,
   "metadata": {},
   "outputs": [
    {
     "data": {
      "text/html": [
       "<div>\n",
       "<style scoped>\n",
       "    .dataframe tbody tr th:only-of-type {\n",
       "        vertical-align: middle;\n",
       "    }\n",
       "\n",
       "    .dataframe tbody tr th {\n",
       "        vertical-align: top;\n",
       "    }\n",
       "\n",
       "    .dataframe thead th {\n",
       "        text-align: right;\n",
       "    }\n",
       "</style>\n",
       "<table border=\"1\" class=\"dataframe\">\n",
       "  <thead>\n",
       "    <tr style=\"text-align: right;\">\n",
       "      <th></th>\n",
       "      <th>Category</th>\n",
       "      <th>Rating</th>\n",
       "      <th>Reviews</th>\n",
       "      <th>Price</th>\n",
       "      <th>platform</th>\n",
       "    </tr>\n",
       "  </thead>\n",
       "  <tbody>\n",
       "    <tr>\n",
       "      <th>0</th>\n",
       "      <td>ART_AND_DESIGN</td>\n",
       "      <td>4.1</td>\n",
       "      <td>159</td>\n",
       "      <td>0.0</td>\n",
       "      <td>google</td>\n",
       "    </tr>\n",
       "    <tr>\n",
       "      <th>1</th>\n",
       "      <td>ART_AND_DESIGN</td>\n",
       "      <td>3.9</td>\n",
       "      <td>967</td>\n",
       "      <td>0.0</td>\n",
       "      <td>google</td>\n",
       "    </tr>\n",
       "    <tr>\n",
       "      <th>2</th>\n",
       "      <td>ART_AND_DESIGN</td>\n",
       "      <td>4.7</td>\n",
       "      <td>87510</td>\n",
       "      <td>0.0</td>\n",
       "      <td>google</td>\n",
       "    </tr>\n",
       "    <tr>\n",
       "      <th>3</th>\n",
       "      <td>ART_AND_DESIGN</td>\n",
       "      <td>4.5</td>\n",
       "      <td>215644</td>\n",
       "      <td>0.0</td>\n",
       "      <td>google</td>\n",
       "    </tr>\n",
       "    <tr>\n",
       "      <th>4</th>\n",
       "      <td>ART_AND_DESIGN</td>\n",
       "      <td>4.3</td>\n",
       "      <td>967</td>\n",
       "      <td>0.0</td>\n",
       "      <td>google</td>\n",
       "    </tr>\n",
       "  </tbody>\n",
       "</table>\n",
       "</div>"
      ],
      "text/plain": [
       "         Category  Rating  Reviews  Price platform\n",
       "0  ART_AND_DESIGN     4.1      159    0.0   google\n",
       "1  ART_AND_DESIGN     3.9      967    0.0   google\n",
       "2  ART_AND_DESIGN     4.7    87510    0.0   google\n",
       "3  ART_AND_DESIGN     4.5   215644    0.0   google\n",
       "4  ART_AND_DESIGN     4.3      967    0.0   google"
      ]
     },
     "execution_count": 22,
     "metadata": {},
     "output_type": "execute_result"
    }
   ],
   "source": [
    "Google.head()"
   ]
  },
  {
   "cell_type": "markdown",
   "metadata": {
    "colab_type": "text",
    "id": "qewPiLrRFcvX"
   },
   "source": [
    "### 2d. Join the two datasets \n",
    "Let's combine the two datasets into a single data frame called `df`."
   ]
  },
  {
   "cell_type": "code",
   "execution_count": 23,
   "metadata": {
    "colab": {},
    "colab_type": "code",
    "id": "jq6fGfvyFcvY"
   },
   "outputs": [
    {
     "data": {
      "text/html": [
       "<div>\n",
       "<style scoped>\n",
       "    .dataframe tbody tr th:only-of-type {\n",
       "        vertical-align: middle;\n",
       "    }\n",
       "\n",
       "    .dataframe tbody tr th {\n",
       "        vertical-align: top;\n",
       "    }\n",
       "\n",
       "    .dataframe thead th {\n",
       "        text-align: right;\n",
       "    }\n",
       "</style>\n",
       "<table border=\"1\" class=\"dataframe\">\n",
       "  <thead>\n",
       "    <tr style=\"text-align: right;\">\n",
       "      <th></th>\n",
       "      <th>Category</th>\n",
       "      <th>Rating</th>\n",
       "      <th>Reviews</th>\n",
       "      <th>Price</th>\n",
       "      <th>platform</th>\n",
       "    </tr>\n",
       "  </thead>\n",
       "  <tbody>\n",
       "    <tr>\n",
       "      <th>1555</th>\n",
       "      <td>LIBRARIES_AND_DEMO</td>\n",
       "      <td>4.7</td>\n",
       "      <td>2639</td>\n",
       "      <td>0.00</td>\n",
       "      <td>google</td>\n",
       "    </tr>\n",
       "    <tr>\n",
       "      <th>7603</th>\n",
       "      <td>GAME</td>\n",
       "      <td>4.4</td>\n",
       "      <td>39698</td>\n",
       "      <td>0.00</td>\n",
       "      <td>google</td>\n",
       "    </tr>\n",
       "    <tr>\n",
       "      <th>17659</th>\n",
       "      <td>Games</td>\n",
       "      <td>4.5</td>\n",
       "      <td>227</td>\n",
       "      <td>0.00</td>\n",
       "      <td>apple</td>\n",
       "    </tr>\n",
       "    <tr>\n",
       "      <th>12884</th>\n",
       "      <td>Entertainment</td>\n",
       "      <td>4.5</td>\n",
       "      <td>9035</td>\n",
       "      <td>1.99</td>\n",
       "      <td>apple</td>\n",
       "    </tr>\n",
       "    <tr>\n",
       "      <th>3474</th>\n",
       "      <td>PRODUCTIVITY</td>\n",
       "      <td>4.5</td>\n",
       "      <td>23089</td>\n",
       "      <td>0.00</td>\n",
       "      <td>google</td>\n",
       "    </tr>\n",
       "    <tr>\n",
       "      <th>4627</th>\n",
       "      <td>FINANCE</td>\n",
       "      <td>4.3</td>\n",
       "      <td>16600</td>\n",
       "      <td>0.00</td>\n",
       "      <td>google</td>\n",
       "    </tr>\n",
       "    <tr>\n",
       "      <th>11666</th>\n",
       "      <td>Utilities</td>\n",
       "      <td>4.0</td>\n",
       "      <td>527</td>\n",
       "      <td>0.00</td>\n",
       "      <td>apple</td>\n",
       "    </tr>\n",
       "    <tr>\n",
       "      <th>9480</th>\n",
       "      <td>GAME</td>\n",
       "      <td>4.0</td>\n",
       "      <td>48</td>\n",
       "      <td>1.99</td>\n",
       "      <td>google</td>\n",
       "    </tr>\n",
       "    <tr>\n",
       "      <th>15150</th>\n",
       "      <td>Games</td>\n",
       "      <td>0.0</td>\n",
       "      <td>0</td>\n",
       "      <td>0.00</td>\n",
       "      <td>apple</td>\n",
       "    </tr>\n",
       "    <tr>\n",
       "      <th>2643</th>\n",
       "      <td>SOCIAL</td>\n",
       "      <td>4.2</td>\n",
       "      <td>1259894</td>\n",
       "      <td>0.00</td>\n",
       "      <td>google</td>\n",
       "    </tr>\n",
       "    <tr>\n",
       "      <th>11508</th>\n",
       "      <td>Games</td>\n",
       "      <td>4.5</td>\n",
       "      <td>29739</td>\n",
       "      <td>0.99</td>\n",
       "      <td>apple</td>\n",
       "    </tr>\n",
       "    <tr>\n",
       "      <th>8433</th>\n",
       "      <td>FAMILY</td>\n",
       "      <td>4.7</td>\n",
       "      <td>417197</td>\n",
       "      <td>0.00</td>\n",
       "      <td>google</td>\n",
       "    </tr>\n",
       "  </tbody>\n",
       "</table>\n",
       "</div>"
      ],
      "text/plain": [
       "                 Category  Rating  Reviews  Price platform\n",
       "1555   LIBRARIES_AND_DEMO     4.7     2639   0.00   google\n",
       "7603                 GAME     4.4    39698   0.00   google\n",
       "17659               Games     4.5      227   0.00    apple\n",
       "12884       Entertainment     4.5     9035   1.99    apple\n",
       "3474         PRODUCTIVITY     4.5    23089   0.00   google\n",
       "4627              FINANCE     4.3    16600   0.00   google\n",
       "11666           Utilities     4.0      527   0.00    apple\n",
       "9480                 GAME     4.0       48   1.99   google\n",
       "15150               Games     0.0        0   0.00    apple\n",
       "2643               SOCIAL     4.2  1259894   0.00   google\n",
       "11508               Games     4.5    29739   0.99    apple\n",
       "8433               FAMILY     4.7   417197   0.00   google"
      ]
     },
     "execution_count": 23,
     "metadata": {},
     "output_type": "execute_result"
    }
   ],
   "source": [
    "# Let's use the append() method to append Apple to Google. \n",
    "ag = Google.append(Apple, ignore_index=True)\n",
    "\n",
    "# Using the sample() method with the number 12 passed to it, check 12 random points of your dataset.\n",
    "ag.sample(12)"
   ]
  },
  {
   "cell_type": "markdown",
   "metadata": {
    "colab_type": "text",
    "id": "FjqsHugWFcvb"
   },
   "source": [
    "### 2e. Eliminate the NaN values\n",
    "\n",
    "As you can see there are some `NaN` values. We want to eliminate all these `NaN` values from the table."
   ]
  },
  {
   "cell_type": "code",
   "execution_count": 24,
   "metadata": {
    "colab": {},
    "colab_type": "code",
    "id": "Gp2q6GLyFcvb"
   },
   "outputs": [
    {
     "name": "stdout",
     "output_type": "stream",
     "text": [
      "(18037, 5)\n",
      "(16563, 5)\n"
     ]
    }
   ],
   "source": [
    "# Lets check first the dimesions of df before droping `NaN` values. Use the .shape feature. \n",
    "print(ag.shape)\n",
    "\n",
    "# Use the dropna() method to eliminate all the NaN values, and overwrite the same dataframe with the result. \n",
    "ag.dropna(inplace=True)\n",
    "\n",
    "# Check the new dimesions of our dataframe. \n",
    "print(ag.shape)"
   ]
  },
  {
   "cell_type": "markdown",
   "metadata": {
    "colab_type": "text",
    "id": "qtfeQKtAFcvd"
   },
   "source": [
    "### 2f. Filter the data so that we only see whose apps that have been reviewed at least once\n",
    "\n",
    "Apps that haven't been reviewed yet can't help us solve our brief. \n",
    "\n",
    "So let's check to see if any apps have no reviews at all. "
   ]
  },
  {
   "cell_type": "code",
   "execution_count": 25,
   "metadata": {
    "colab": {},
    "colab_type": "code",
    "id": "Ge9OKXLNFcvd"
   },
   "outputs": [
    {
     "data": {
      "text/plain": [
       "Category    929\n",
       "Rating      929\n",
       "Reviews     929\n",
       "Price       929\n",
       "platform    929\n",
       "dtype: int64"
      ]
     },
     "execution_count": 25,
     "metadata": {},
     "output_type": "execute_result"
    }
   ],
   "source": [
    "# Subset your df to pick out just those rows whose value for 'Reviews' is equal to 0. \n",
    "# Do a count() on the result. \n",
    "ag[ag['Reviews']==0].count()"
   ]
  },
  {
   "cell_type": "markdown",
   "metadata": {
    "colab_type": "text",
    "id": "05f7H0kAFcvg"
   },
   "source": [
    "929 apps do not have reviews, we need to eliminate these points!"
   ]
  },
  {
   "cell_type": "code",
   "execution_count": 26,
   "metadata": {
    "colab": {},
    "colab_type": "code",
    "id": "pD8vmPjkFcvg"
   },
   "outputs": [],
   "source": [
    "# Eliminate the points that have 0 reviews.\n",
    "ag = ag[ag['Reviews'] != 0]"
   ]
  },
  {
   "cell_type": "markdown",
   "metadata": {
    "colab_type": "text",
    "id": "ApnKES_bFcvi"
   },
   "source": [
    "### 2g. Summarize the data visually and analytically (by the column `platform`)"
   ]
  },
  {
   "cell_type": "markdown",
   "metadata": {
    "colab_type": "text",
    "id": "2smt9UocFcvj"
   },
   "source": [
    "What we need to solve our brief is a summary of the `Rating` column, but separated by the different platforms."
   ]
  },
  {
   "cell_type": "code",
   "execution_count": 27,
   "metadata": {
    "colab": {},
    "colab_type": "code",
    "id": "Vqckt347Fcvj"
   },
   "outputs": [
    {
     "data": {
      "text/html": [
       "<div>\n",
       "<style scoped>\n",
       "    .dataframe tbody tr th:only-of-type {\n",
       "        vertical-align: middle;\n",
       "    }\n",
       "\n",
       "    .dataframe tbody tr th {\n",
       "        vertical-align: top;\n",
       "    }\n",
       "\n",
       "    .dataframe thead th {\n",
       "        text-align: right;\n",
       "    }\n",
       "</style>\n",
       "<table border=\"1\" class=\"dataframe\">\n",
       "  <thead>\n",
       "    <tr style=\"text-align: right;\">\n",
       "      <th></th>\n",
       "      <th>count</th>\n",
       "      <th>mean</th>\n",
       "      <th>std</th>\n",
       "      <th>min</th>\n",
       "      <th>25%</th>\n",
       "      <th>50%</th>\n",
       "      <th>75%</th>\n",
       "      <th>max</th>\n",
       "    </tr>\n",
       "    <tr>\n",
       "      <th>platform</th>\n",
       "      <th></th>\n",
       "      <th></th>\n",
       "      <th></th>\n",
       "      <th></th>\n",
       "      <th></th>\n",
       "      <th></th>\n",
       "      <th></th>\n",
       "      <th></th>\n",
       "    </tr>\n",
       "  </thead>\n",
       "  <tbody>\n",
       "    <tr>\n",
       "      <th>apple</th>\n",
       "      <td>6268.0</td>\n",
       "      <td>4.049697</td>\n",
       "      <td>0.726943</td>\n",
       "      <td>1.0</td>\n",
       "      <td>4.0</td>\n",
       "      <td>4.5</td>\n",
       "      <td>4.5</td>\n",
       "      <td>5.0</td>\n",
       "    </tr>\n",
       "    <tr>\n",
       "      <th>google</th>\n",
       "      <td>9366.0</td>\n",
       "      <td>4.191757</td>\n",
       "      <td>0.515219</td>\n",
       "      <td>1.0</td>\n",
       "      <td>4.0</td>\n",
       "      <td>4.3</td>\n",
       "      <td>4.5</td>\n",
       "      <td>5.0</td>\n",
       "    </tr>\n",
       "  </tbody>\n",
       "</table>\n",
       "</div>"
      ],
      "text/plain": [
       "           count      mean       std  min  25%  50%  75%  max\n",
       "platform                                                     \n",
       "apple     6268.0  4.049697  0.726943  1.0  4.0  4.5  4.5  5.0\n",
       "google    9366.0  4.191757  0.515219  1.0  4.0  4.3  4.5  5.0"
      ]
     },
     "execution_count": 27,
     "metadata": {},
     "output_type": "execute_result"
    }
   ],
   "source": [
    "# To summarize analytically, let's use the groupby() method on our df.\n",
    "ag.groupby('platform')['Rating'].describe()"
   ]
  },
  {
   "cell_type": "markdown",
   "metadata": {
    "colab_type": "text",
    "id": "8f9TqMtKFcvl"
   },
   "source": [
    "Interesting! Our means of 4.049697 and 4.191757 don't **seem** all that different! Perhaps we've solved our brief already: there's no significant difference between Google Play app reviews and Apple Store app reviews. We have an ***observed difference*** here: which is simply (4.191757 - 4.049697) = 0.14206. This is just the actual difference that we observed between the mean rating for apps from Google Play, and the mean rating for apps from the Apple Store. Let's look at how we're going to use this observed difference to solve our problem using a statistical test. \n",
    "\n",
    "**Outline of our method:**\n",
    "1. We'll assume that platform (i.e, whether the app was Google or Apple) really doesn’t impact on ratings. \n",
    "\n",
    "\n",
    "2. Given this assumption, we should actually be able to get a difference in mean rating for Apple apps and mean rating for Google apps that's pretty similar to the one we actually got (0.14206) just by: \n",
    "a. shuffling the ratings column, \n",
    "b. keeping the platform column the same,\n",
    "c. calculating the difference between the mean rating for Apple and the mean rating for Google. \n",
    "\n",
    "\n",
    "3. We can make the shuffle more useful by doing it many times, each time calculating the mean rating for Apple apps and the mean rating for Google apps, and the difference between these means. \n",
    "\n",
    "\n",
    "4. We can then take the mean of all these differences, and this will be called our permutation difference. This permutation difference will be great indicator of what the difference would be if our initial assumption were true and platform really doesn’t impact on ratings. \n",
    "\n",
    "\n",
    "5. Now we do a comparison. If the observed difference looks just like the permutation difference, then we stick with the claim that actually, platform doesn’t impact on ratings. If instead, however, the permutation difference differs significantly from the observed difference, we'll conclude: something's going on; the platform does in fact impact on ratings. \n",
    "\n",
    "\n",
    "6. As for what the definition of *significantly* is, we'll get to that. But there’s a brief summary of what we're going to do. Exciting!\n",
    "\n",
    "If you want to look more deeply at the statistics behind this project, check out [this resource](https://www.springboard.com/archeio/download/4ea4d453b0b84014bcef287c50f47f00/)."
   ]
  },
  {
   "cell_type": "markdown",
   "metadata": {
    "colab_type": "text",
    "id": "d6EhTxArFcvm"
   },
   "source": [
    "Let's also get a **visual summary** of the `Rating` column, separated by the different platforms. \n",
    "\n",
    "A good tool to use here is the boxplot!"
   ]
  },
  {
   "cell_type": "code",
   "execution_count": 28,
   "metadata": {
    "colab": {},
    "colab_type": "code",
    "id": "hFKjrlWgFcvm"
   },
   "outputs": [
    {
     "data": {
      "image/png": "[encoded data removed]",
      "text/plain": [
       "<Figure size 576x576 with 1 Axes>"
      ]
     },
     "metadata": {},
     "output_type": "display_data"
    }
   ],
   "source": [
    "# Call the boxplot() method on our df.\n",
    "sns.set()\n",
    "plt.figure(figsize=(8,8))\n",
    "sns.boxplot(x='platform', y='Rating', data=ag)\n",
    "plt.show()"
   ]
  },
  {
   "cell_type": "markdown",
   "metadata": {
    "colab_type": "text",
    "id": "FqTlAjnmFcvo"
   },
   "source": [
    "Here we see the same information as in the analytical summary, but with a boxplot. Can you see how the boxplot is working here? If you need to revise your boxplots, check out this this [link](https://www.kaggle.com/ramamet4/app-store-apple-data-set-10k-apps). "
   ]
  },
  {
   "cell_type": "markdown",
   "metadata": {
    "colab_type": "text",
    "id": "O8L-s1fgFcvp"
   },
   "source": [
    "## Stage 3 - Modelling"
   ]
  },
  {
   "cell_type": "markdown",
   "metadata": {
    "colab_type": "text",
    "id": "5fbRq2MZFcvq"
   },
   "source": [
    "### 3a. Hypothesis formulation\n",
    "\n",
    "Our **Null hypothesis** is just:\n",
    "\n",
    "**H<sub>null</sub>**: the observed difference in the mean rating of Apple Store and Google Play apps is due to chance (and thus not due to the platform).\n",
    "\n",
    "The more interesting hypothesis is called the **Alternate hypothesis**:\n",
    "\n",
    "**H<sub>alternative</sub>**: the observed difference in the average ratings of apple and google users is not due to chance (and is actually due to platform)\n",
    "\n",
    "We're also going to pick a **significance level** of 0.05. "
   ]
  },
  {
   "cell_type": "markdown",
   "metadata": {
    "colab_type": "text",
    "id": "TjBqkabaFcvq"
   },
   "source": [
    "### 3b. Getting the distribution of the data\n",
    "Now that the hypotheses and significance level are defined, we can select a statistical test to determine which hypothesis to accept. \n",
    "\n",
    "There are many different statistical tests, all with different assumptions. You'll generate an excellent judgement about when to use which statistical tests over the Data Science Career Track course. But in general, one of the most important things to determine is the **distribution of the data**.   "
   ]
  },
  {
   "cell_type": "code",
   "execution_count": 29,
   "metadata": {
    "colab": {},
    "colab_type": "code",
    "id": "bFwVhkeWFcvr"
   },
   "outputs": [],
   "source": [
    "# Create a subset of the column 'Rating' by the different platforms.\n",
    "# Call the subsets 'apple' and 'google' \n",
    "apple = ag[ag['platform']=='apple']['Rating']\n",
    "google = ag[ag['platform']=='google']['Rating']"
   ]
  },
  {
   "cell_type": "code",
   "execution_count": 30,
   "metadata": {
    "colab": {},
    "colab_type": "code",
    "id": "oPPFpwPvFcvu"
   },
   "outputs": [
    {
     "name": "stdout",
     "output_type": "stream",
     "text": [
      "NormaltestResult(statistic=1778.9974234584017, pvalue=0.0)\n"
     ]
    }
   ],
   "source": [
    "# Using the stats.normaltest() method, get an indication of whether the apple data are normally distributed\n",
    "# Save the result in a variable called apple_normal, and print it out\n",
    "apple_normal = stats.normaltest(apple)\n",
    "print(apple_normal)"
   ]
  },
  {
   "cell_type": "code",
   "execution_count": 31,
   "metadata": {
    "colab": {},
    "colab_type": "code",
    "id": "rCdh8a8KFcvw"
   },
   "outputs": [
    {
     "name": "stdout",
     "output_type": "stream",
     "text": [
      "NormaltestResult(statistic=3678.6157187516856, pvalue=0.0)\n"
     ]
    }
   ],
   "source": [
    "# Do the same with the google data. \n",
    "google_normal = stats.normaltest(google)\n",
    "print(google_normal)"
   ]
  },
  {
   "cell_type": "markdown",
   "metadata": {
    "colab_type": "text",
    "id": "9gDqu21yFcv0"
   },
   "source": [
    "Since the null hypothesis of the normaltest() is that the data are normally distributed, the lower the p-value in the result of this test, the more likely the data are to be non-normal. \n",
    "\n",
    "Since the p-values is 0 for both tests, regardless of what we pick for the significance level, our conclusion is that the data are not normally distributed. \n",
    "\n",
    "We can actually also check out the distribution of the data visually with a histogram. A normal distribution has the following visual characteristics:\n",
    "    - symmetric\n",
    "    - unimodal (one hump)\n",
    "As well as a roughly identical mean, median and mode. "
   ]
  },
  {
   "cell_type": "code",
   "execution_count": 32,
   "metadata": {
    "colab": {},
    "colab_type": "code",
    "id": "P9tT9RjNFcv1"
   },
   "outputs": [
    {
     "data": {
      "image/png": "[encoded data removed]",
      "text/plain": [
       "<Figure size 432x288 with 1 Axes>"
      ]
     },
     "metadata": {},
     "output_type": "display_data"
    }
   ],
   "source": [
    "# Create a histogram of the apple reviews distribution\n",
    "_ =apple.hist()\n",
    "_ = plt.xlabel('Rating')\n",
    "_ = plt.ylabel('Frequency')\n",
    "_ = plt.title('Apple Ratings')\n",
    "plt.show()"
   ]
  },
  {
   "cell_type": "code",
   "execution_count": 33,
   "metadata": {
    "colab": {},
    "colab_type": "code",
    "id": "8dE1uC5iFcv2"
   },
   "outputs": [
    {
     "data": {
      "image/png": "[encoded data removed]",
      "text/plain": [
       "<Figure size 432x288 with 1 Axes>"
      ]
     },
     "metadata": {},
     "output_type": "display_data"
    }
   ],
   "source": [
    "# Create a histogram of the google data\n",
    "_ = google.hist()\n",
    "_ = plt.xlabel('Rating')\n",
    "_ = plt.ylabel('Frequency')\n",
    "_ = plt.title('Google Ratings')\n",
    "plt.show()"
   ]
  },
  {
   "cell_type": "markdown",
   "metadata": {
    "colab_type": "text",
    "id": "QhZV89FzFcv5"
   },
   "source": [
    "### 3c. Permutation test\n",
    "Since the data aren't normally distributed, we're using a *non-parametric* test here. This is simply a label for statistical tests used when the data aren't normally distributed. These tests are extraordinarily powerful due to how few assumptions we need to make.  \n",
    "\n",
    "Check out more about permutations [here.](http://rasbt.github.io/mlxtend/user_guide/evaluate/permutation_test/)"
   ]
  },
  {
   "cell_type": "code",
   "execution_count": 34,
   "metadata": {
    "colab": {},
    "colab_type": "code",
    "id": "bxNhQgpqFcv6"
   },
   "outputs": [
    {
     "data": {
      "text/html": [
       "<div>\n",
       "<style scoped>\n",
       "    .dataframe tbody tr th:only-of-type {\n",
       "        vertical-align: middle;\n",
       "    }\n",
       "\n",
       "    .dataframe tbody tr th {\n",
       "        vertical-align: top;\n",
       "    }\n",
       "\n",
       "    .dataframe thead th {\n",
       "        text-align: right;\n",
       "    }\n",
       "</style>\n",
       "<table border=\"1\" class=\"dataframe\">\n",
       "  <thead>\n",
       "    <tr style=\"text-align: right;\">\n",
       "      <th></th>\n",
       "      <th>count</th>\n",
       "      <th>mean</th>\n",
       "      <th>std</th>\n",
       "      <th>min</th>\n",
       "      <th>25%</th>\n",
       "      <th>50%</th>\n",
       "      <th>75%</th>\n",
       "      <th>max</th>\n",
       "    </tr>\n",
       "    <tr>\n",
       "      <th>platform</th>\n",
       "      <th></th>\n",
       "      <th></th>\n",
       "      <th></th>\n",
       "      <th></th>\n",
       "      <th></th>\n",
       "      <th></th>\n",
       "      <th></th>\n",
       "      <th></th>\n",
       "    </tr>\n",
       "  </thead>\n",
       "  <tbody>\n",
       "    <tr>\n",
       "      <th>apple</th>\n",
       "      <td>6268.0</td>\n",
       "      <td>4.141832</td>\n",
       "      <td>0.614792</td>\n",
       "      <td>1.0</td>\n",
       "      <td>4.0</td>\n",
       "      <td>4.3</td>\n",
       "      <td>4.5</td>\n",
       "      <td>5.0</td>\n",
       "    </tr>\n",
       "    <tr>\n",
       "      <th>google</th>\n",
       "      <td>9366.0</td>\n",
       "      <td>4.130098</td>\n",
       "      <td>0.611707</td>\n",
       "      <td>1.0</td>\n",
       "      <td>4.0</td>\n",
       "      <td>4.3</td>\n",
       "      <td>4.5</td>\n",
       "      <td>5.0</td>\n",
       "    </tr>\n",
       "  </tbody>\n",
       "</table>\n",
       "</div>"
      ],
      "text/plain": [
       "           count      mean       std  min  25%  50%  75%  max\n",
       "platform                                                     \n",
       "apple     6268.0  4.141832  0.614792  1.0  4.0  4.3  4.5  5.0\n",
       "google    9366.0  4.130098  0.611707  1.0  4.0  4.3  4.5  5.0"
      ]
     },
     "execution_count": 34,
     "metadata": {},
     "output_type": "execute_result"
    }
   ],
   "source": [
    "# Create a column called `Permutation1`, and assign to it the result of permuting (shuffling) the Rating column\n",
    "# This assignment will use our numpy object's random.permutation() method\n",
    "ag['Permutation1'] = np.random.permutation(ag['Rating'])\n",
    "\n",
    "# Call the describe() method on our permutation grouped by 'platform'. \n",
    "ag.groupby('platform')['Permutation1'].describe()"
   ]
  },
  {
   "cell_type": "code",
   "execution_count": 36,
   "metadata": {
    "colab": {},
    "colab_type": "code",
    "id": "AaGNfPGTFcv7"
   },
   "outputs": [
    {
     "data": {
      "text/html": [
       "<div>\n",
       "<style scoped>\n",
       "    .dataframe tbody tr th:only-of-type {\n",
       "        vertical-align: middle;\n",
       "    }\n",
       "\n",
       "    .dataframe tbody tr th {\n",
       "        vertical-align: top;\n",
       "    }\n",
       "\n",
       "    .dataframe thead th {\n",
       "        text-align: right;\n",
       "    }\n",
       "</style>\n",
       "<table border=\"1\" class=\"dataframe\">\n",
       "  <thead>\n",
       "    <tr style=\"text-align: right;\">\n",
       "      <th></th>\n",
       "      <th>count</th>\n",
       "      <th>mean</th>\n",
       "      <th>std</th>\n",
       "      <th>min</th>\n",
       "      <th>25%</th>\n",
       "      <th>50%</th>\n",
       "      <th>75%</th>\n",
       "      <th>max</th>\n",
       "    </tr>\n",
       "    <tr>\n",
       "      <th>platform</th>\n",
       "      <th></th>\n",
       "      <th></th>\n",
       "      <th></th>\n",
       "      <th></th>\n",
       "      <th></th>\n",
       "      <th></th>\n",
       "      <th></th>\n",
       "      <th></th>\n",
       "    </tr>\n",
       "  </thead>\n",
       "  <tbody>\n",
       "    <tr>\n",
       "      <th>apple</th>\n",
       "      <td>6268.0</td>\n",
       "      <td>4.049697</td>\n",
       "      <td>0.726943</td>\n",
       "      <td>1.0</td>\n",
       "      <td>4.0</td>\n",
       "      <td>4.5</td>\n",
       "      <td>4.5</td>\n",
       "      <td>5.0</td>\n",
       "    </tr>\n",
       "    <tr>\n",
       "      <th>google</th>\n",
       "      <td>9366.0</td>\n",
       "      <td>4.191757</td>\n",
       "      <td>0.515219</td>\n",
       "      <td>1.0</td>\n",
       "      <td>4.0</td>\n",
       "      <td>4.3</td>\n",
       "      <td>4.5</td>\n",
       "      <td>5.0</td>\n",
       "    </tr>\n",
       "  </tbody>\n",
       "</table>\n",
       "</div>"
      ],
      "text/plain": [
       "           count      mean       std  min  25%  50%  75%  max\n",
       "platform                                                     \n",
       "apple     6268.0  4.049697  0.726943  1.0  4.0  4.5  4.5  5.0\n",
       "google    9366.0  4.191757  0.515219  1.0  4.0  4.3  4.5  5.0"
      ]
     },
     "execution_count": 36,
     "metadata": {},
     "output_type": "execute_result"
    }
   ],
   "source": [
    "# Lets compare with the previous analytical summary:\n",
    "ag.groupby('platform')['Rating'].describe()"
   ]
  },
  {
   "cell_type": "code",
   "execution_count": 37,
   "metadata": {
    "colab": {},
    "colab_type": "code",
    "id": "aJPNpX0JFcv-"
   },
   "outputs": [],
   "source": [
    "# The difference in the means for Permutation1 (0.001103) now looks hugely different to our observed difference of 0.14206. \n",
    "# It's sure starting to look like our observed difference is significant, and that the Null is false; platform does impact on ratings\n",
    "# But to be sure, let's create 10,000 permutations, calculate the mean ratings for Google and Apple apps and the difference between these for each one, and then take the average of all of these differences.\n",
    "# Let's create a vector with the differences - that will be the distibution of the Null.\n",
    "\n",
    "# First, make a list called difference.\n",
    "# A numpy array will give me more flexibility\n",
    "difference = np.empty(10000)\n",
    "\n",
    "# Now make a for loop that does the following 10,000 times:\n",
    "# 1. makes a permutation of the 'Rating' as you did above\n",
    "# 2. calculates the difference in the mean rating for apple and the mean rating for google. \n",
    "\n",
    "#I'm going to be using the apple and google series I created above. That way I'll have the exact number of ratings that \n",
    "#came from each platform. I'll combine them, permute the combined data, split them according to size and then perform\n",
    "#the difference in mean. I'll be storing the results in the difference array.\n",
    "\n",
    "np.random.seed(47)\n",
    "for i in range(10000):\n",
    "    ratings = np.concatenate((apple, google))\n",
    "    ratings_permuted = np.random.permutation(ratings)\n",
    "    perm_apple = ratings_permuted[:len(apple)]\n",
    "    perm_google = ratings_permuted[len(apple):]\n",
    "    \n",
    "    difference[i] = np.mean(perm_apple) - np.mean(perm_google)"
   ]
  },
  {
   "cell_type": "code",
   "execution_count": 38,
   "metadata": {
    "colab": {},
    "colab_type": "code",
    "id": "VlzpYTkYFcv_"
   },
   "outputs": [
    {
     "data": {
      "image/png": "[encoded data removed]",
      "text/plain": [
       "<Figure size 432x288 with 1 Axes>"
      ]
     },
     "metadata": {},
     "output_type": "display_data"
    }
   ],
   "source": [
    "# Make a variable called 'histo', and assign to it the result of plotting a histogram of the difference list. \n",
    "histo = plt.hist(difference)"
   ]
  },
  {
   "cell_type": "code",
   "execution_count": 39,
   "metadata": {
    "colab": {},
    "colab_type": "code",
    "id": "KhqgDFd3FcwB"
   },
   "outputs": [
    {
     "name": "stdout",
     "output_type": "stream",
     "text": [
      "0.14206054745123442\n"
     ]
    }
   ],
   "source": [
    "# Now make a variable called obs_difference, and assign it the result of the mean of our 'apple' variable and the mean of our 'google variable'\n",
    "obs_difference = apple.mean() - google.mean()\n",
    "\n",
    "# Make this difference absolute with the built-in abs() function. \n",
    "obs_difference = abs(obs_difference)\n",
    "\n",
    "# Print out this value; it should be 0.1420605474512291. \n",
    "print(obs_difference)"
   ]
  },
  {
   "cell_type": "markdown",
   "metadata": {
    "colab_type": "text",
    "id": "QUNuuSgDFcwE"
   },
   "source": [
    "## Stage 4 -  Evaluating and concluding\n",
    "### 4a. What is our conclusion?"
   ]
  },
  {
   "cell_type": "code",
   "execution_count": 40,
   "metadata": {
    "colab": {},
    "colab_type": "code",
    "id": "XMQHnqx1FcwF"
   },
   "outputs": [
    {
     "name": "stdout",
     "output_type": "stream",
     "text": [
      "0.0\n"
     ]
    }
   ],
   "source": [
    "'''\n",
    "What do we know? \n",
    "\n",
    "Recall: The p-value of our observed data is just the proportion of the data given the null that's at least as extreme as that observed data.\n",
    "\n",
    "As a result, we're going to count how many of the differences in our difference list are at least as extreme as our observed difference.\n",
    "\n",
    "If less than or equal to 5% of them are, then we will reject the Null. \n",
    "'''\n",
    "#The p_value is going to be the percentage of permutations that returned a mean difference at least as extreme as our \n",
    "#observed difference\n",
    "p_val = np.sum(difference>= obs_difference)/len(difference)\n",
    "print(p_val)"
   ]
  },
  {
   "cell_type": "markdown",
   "metadata": {
    "colab_type": "text",
    "id": "4RTofY9wFcwI"
   },
   "source": [
    "### 4b. What is our decision?\n",
    "So actually, zero differences are at least as extreme as our observed difference!\n",
    "\n",
    "So the p-value of our observed data is 0. \n",
    "\n",
    "It doesn't matter which significance level we pick; our observed data is statistically significant, and we reject the Null.\n",
    "\n",
    "We conclude that platform does impact on ratings. Specifically, we should advise our client to integrate **only Google Play** into their operating system interface. "
   ]
  },
  {
   "cell_type": "markdown",
   "metadata": {
    "colab_type": "text",
    "id": "Cu_eh7fTFcwJ"
   },
   "source": [
    "### 4c. Other statistical tests, and next steps\n",
    "The test we used here is the Permutation test. This was appropriate because our data were not normally distributed! \n",
    "\n",
    "As we've seen in Professor Spiegelhalter's book, there are actually many different statistical tests, all with different assumptions. How many of these different statistical tests can you remember? How much do you remember about what the appropriate conditions are under which to use them? \n",
    "\n",
    "Make a note of your answers to these questions, and discuss them with your mentor at your next call. \n"
   ]
  }
 ],
 "metadata": {
  "colab": {
   "collapsed_sections": [
    "5fbRq2MZFcvq",
    "4RTofY9wFcwI",
    "Cu_eh7fTFcwJ"
   ],
   "name": "Springboard Apps project - Tier 3 - Complete.ipynb",
   "provenance": []
  },
  "kernelspec": {
   "display_name": "Python 3",
   "language": "python",
   "name": "python3"
  },
  "language_info": {
   "codemirror_mode": {
    "name": "ipython",
    "version": 3
   },
   "file_extension": ".py",
   "mimetype": "text/x-python",
   "name": "python",
   "nbconvert_exporter": "python",
   "pygments_lexer": "ipython3",
   "version": "3.7.4"
  }
 },
 "nbformat": 4,
 "nbformat_minor": 1
}
